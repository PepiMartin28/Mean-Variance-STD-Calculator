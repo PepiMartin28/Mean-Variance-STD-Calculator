{
  "nbformat": 4,
  "nbformat_minor": 0,
  "metadata": {
    "colab": {
      "provenance": [],
      "authorship_tag": "ABX9TyNS+TktLu3NGWBEAh8bM1dl",
      "include_colab_link": true
    },
    "kernelspec": {
      "name": "python3",
      "display_name": "Python 3"
    },
    "language_info": {
      "name": "python"
    }
  },
  "cells": [
    {
      "cell_type": "markdown",
      "metadata": {
        "id": "view-in-github",
        "colab_type": "text"
      },
      "source": [
        "<a href=\"https://colab.research.google.com/github/PepiMartin28/Mean-Variance-STD-Calculator/blob/main/StatiticalsCalculations.ipynb\" target=\"_parent\"><img src=\"https://colab.research.google.com/assets/colab-badge.svg\" alt=\"Open In Colab\"/></a>"
      ]
    },
    {
      "cell_type": "code",
      "execution_count": null,
      "metadata": {
        "id": "VX9mHL0xXb6G"
      },
      "outputs": [],
      "source": [
        "import numpy as np"
      ]
    },
    {
      "cell_type": "code",
      "source": [
        "def calculate(list):\n",
        "  if len(list) != 9:\n",
        "    raise ValueError(\"List must contain nine numbers.\")\n",
        "\n",
        "  matrix = np.array(list)\n",
        "\n",
        "  matrix = matrix.reshape(3, 3)\n",
        "\n",
        "  calculations = {\n",
        "    'mean': [matrix.mean(axis=0),\n",
        "             matrix.mean(axis=1),\n",
        "             matrix.mean()],\n",
        "\n",
        "    'variance': [matrix.var(axis=0),\n",
        "                 matrix.var(axis=1),\n",
        "                 matrix.var()],\n",
        "\n",
        "    'standard deviation':[matrix.std(axis=0),\n",
        "                          matrix.std(axis=1),\n",
        "                          matrix.std()],\n",
        "\n",
        "    'max': [matrix.max(axis=0),\n",
        "            matrix.max(axis=1),\n",
        "            matrix.max()],\n",
        "\n",
        "    'min': [matrix.min(axis=0),\n",
        "            matrix.min(axis=1),\n",
        "            matrix.min()],\n",
        "\n",
        "    'sum': [matrix.sum(axis=0),\n",
        "            matrix.sum(axis=1),\n",
        "            matrix.sum()]\n",
        "  }\n",
        "\n",
        "  return calculations"
      ],
      "metadata": {
        "id": "FZsIX4NUXgcR"
      },
      "execution_count": null,
      "outputs": []
    }
  ]
}